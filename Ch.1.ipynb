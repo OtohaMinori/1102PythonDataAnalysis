{
 "cells": [
  {
   "cell_type": "code",
   "execution_count": null,
   "metadata": {},
   "outputs": [],
   "source": [
    "grade = 76\n",
    "height = 175.5\n",
    "weight = 75.5\n",
    "print(\"成績 = \" + str(grade))\n",
    "print(\"身高 = \" + str(height))\n",
    "print(\"體重 = \" + str(weight))\n",
    "print(\"成績 =\", grade)\n",
    "print(\"身高 =\", height)\n",
    "print(\"體重 =\", weight)"
   ]
  },
  {
   "cell_type": "code",
   "execution_count": null,
   "metadata": {},
   "outputs": [],
   "source": [
    "3 + 4 - 2\n",
    "a = b = c = 25"
   ]
  },
  {
   "cell_type": "code",
   "execution_count": null,
   "metadata": {},
   "outputs": [],
   "source": [
    "a = 1\n",
    "b = 100\n",
    "c = 122\n",
    "d = 56789"
   ]
  },
  {
   "cell_type": "code",
   "execution_count": null,
   "metadata": {},
   "outputs": [],
   "source": [
    "x = 5\n",
    "print(type(x)) # 顯示 \"<class 'int'>\"\n",
    "print(x) # 顯示 \"5\"\n",
    "print(x + 1) # 加法: 顯示 \"6\"\n",
    "print(x - 1) # 減法: 顯示 \"4\"\n",
    "print(x * 2) # 乘法: 顯示 \"10\"\n",
    "print(x / 2) # 除法: 顯示 \"2.5“ \n",
    "print(x // 2) # 整數除法: 顯示 \"2\"\n",
    "print(x % 2) # 餘數: 顯示 \"1\"\n",
    "print(x ** 2) # 指數: 顯示 \"25\"\n",
    "x += 1\n",
    "print(x) # 顯示 \"6\"\n",
    "x *= 2\n",
    "print(x) # 顯示 \"12\""
   ]
  },
  {
   "cell_type": "code",
   "execution_count": null,
   "metadata": {},
   "outputs": [],
   "source": [
    "e = 1.0\n",
    "f = 55.22"
   ]
  },
  {
   "cell_type": "code",
   "execution_count": null,
   "metadata": {},
   "outputs": [],
   "source": [
    "y = 2.5\n",
    "print(type(y)) # 顯示 \"<class 'float'>\"\n",
    "print(y, y + 1, y * 2, y ** 2) # 顯示 \"2.5 3.5 5.0 6.25\""
   ]
  },
  {
   "cell_type": "code",
   "execution_count": null,
   "metadata": {},
   "outputs": [],
   "source": [
    "x = True\n",
    "y = False"
   ]
  },
  {
   "cell_type": "code",
   "execution_count": null,
   "metadata": {},
   "outputs": [],
   "source": [
    "a = True\n",
    "b = False\n",
    "print(type(a)) # 顯示 \"<class 'bool'>\"\n",
    "print(a and b) # 邏輯AND: 顯示 \"False\"\n",
    "print(a or b) # 邏輯OR: 顯示\"True\"\n",
    "print(not a) # 邏輯NOT: 顯示 \"False\""
   ]
  },
  {
   "cell_type": "code",
   "execution_count": null,
   "metadata": {},
   "outputs": [],
   "source": [
    "a = 3\n",
    "b = 4\n",
    "print(a == b) # 相等: 顯示 \"False\"\n",
    "print(a != b) # 不等: 顯示 \"True\"\n",
    "print(a > b) # 大於: 顯示 \"False\"\n",
    "print(a >= b) # 大於等於: 顯示 \"False\"\n",
    "print(a < b) # 小於: 顯示 \"True\"\n",
    "print(a <= b) # 小於等於: 顯示 \"True\""
   ]
  },
  {
   "cell_type": "code",
   "execution_count": null,
   "metadata": {},
   "outputs": [],
   "source": [
    "s1 = \"學習Python語言程式設計\"\n",
    "s2 = 'Hello World!'\n",
    "ch1 = \"A\"\n",
    "ch2 = 'b'"
   ]
  },
  {
   "cell_type": "code",
   "execution_count": null,
   "metadata": {},
   "outputs": [],
   "source": [
    "str1 = 'hello' # 使用單引號建立字串\n",
    "str2 = \"python\" # 使用雙引號建立字串\n",
    "print(str1) # 顯示 \"hello\"\n",
    "print(len(str1)) # 字串長度: 顯示 \"5\"\n",
    "str3 = str1 + ' ' + str2 # 字串連接\n",
    "print(str3) # 顯示 \"hello python\"\n",
    "str4 = '%s %s %d' % (str1, str2, 12) # 格式化字串\n",
    "print(str4) # 顯示 \"hello python 12\""
   ]
  },
  {
   "cell_type": "code",
   "execution_count": null,
   "metadata": {},
   "outputs": [],
   "source": [
    "s = \"world\"\n",
    "print(\"hello %s\" % s) # 輸出字串: \"hello world\"\n",
    "num = 10\n",
    "print(\"分數: %d\" % num) # 輸出整數: 分數: 10\n",
    "print('hello {}, {:d}'.format(s, num)) # 輸出: hello world, 10"
   ]
  },
  {
   "cell_type": "code",
   "execution_count": null,
   "metadata": {},
   "outputs": [],
   "source": [
    "s = \"hello\"\n",
    "print(s.capitalize()) # 第1個字元大寫: 顯示 \"Hello\"\n",
    "print(s.upper()) # 轉成大寫: 顯示 \"HELLO\"\n",
    "print(s.rjust(7)) # 左邊填空白字元: 顯示 \" hello\"\n",
    "print(s.center(7)) # 置中顯示: 顯示 \" hello \"\n",
    "print(s.replace('l', 'L')) # 取代字串: 顯示 \"heLLo\"\n",
    "print(' python '.strip()) # 刪除空白字元: 顯示 \"python\""
   ]
  },
  {
   "cell_type": "code",
   "execution_count": null,
   "metadata": {},
   "outputs": [],
   "source": [
    "t = int(input(\"請輸入氣溫 => \"))\n",
    "if t < 20:\n",
    "    print(\"加件外套!\")\n",
    "print(\"今天氣溫 = \" + str(t))"
   ]
  },
  {
   "cell_type": "code",
   "execution_count": null,
   "metadata": {},
   "outputs": [],
   "source": [
    "if t >= 20 and t <= 22:\n",
    "    print(\"加一件簿外套!\")"
   ]
  },
  {
   "cell_type": "code",
   "execution_count": null,
   "metadata": {},
   "outputs": [],
   "source": [
    "s = int(input(\"請輸入成績 => \"))\n",
    "if s >= 60:\n",
    "    print(\"成績及格!\")\n",
    "else:\n",
    "    print(\"成績不及格!\")"
   ]
  },
  {
   "cell_type": "code",
   "execution_count": null,
   "metadata": {},
   "outputs": [],
   "source": [
    "a = int(input(\"請輸入年齡 => \"))\n",
    "if a < 13:\n",
    "    print(\"兒童\")\n",
    "elif a < 20:\n",
    "    print(\"青少年\")\n",
    "else:\n",
    "    print(\"成年人\")"
   ]
  },
  {
   "cell_type": "code",
   "execution_count": null,
   "metadata": {},
   "outputs": [],
   "source": [
    "h = h-12 if h >= 12 else h"
   ]
  },
  {
   "cell_type": "code",
   "execution_count": null,
   "metadata": {},
   "outputs": [],
   "source": [
    "m = int(input(\"請輸入最大值 =>\"))\n",
    "s = 0\n",
    "for i in range(1, m + 1):\n",
    "    s = s + i\n",
    "print(\"總和 = \" + str(s))"
   ]
  },
  {
   "cell_type": "code",
   "execution_count": null,
   "metadata": {},
   "outputs": [],
   "source": [
    "m = int(input(\"請輸入階層數=>\"))\n",
    "r = 1\n",
    "n = 1\n",
    "while n <= m:\n",
    "    r = r * n\n",
    "    n = n + 1\n",
    "print(\"階層值! = \" + str(r))"
   ]
  },
  {
   "cell_type": "code",
   "execution_count": null,
   "metadata": {},
   "outputs": [],
   "source": [
    "def print_msg():\n",
    "    print(\"歡迎學習Python程式設計!\")"
   ]
  },
  {
   "cell_type": "code",
   "execution_count": null,
   "metadata": {},
   "outputs": [],
   "source": [
    "def is_valid_num(no):\n",
    "    if no >= 0 and no <= 200.0:\n",
    "        return True\n",
    "    else:\n",
    "        return False"
   ]
  },
  {
   "cell_type": "code",
   "execution_count": null,
   "metadata": {},
   "outputs": [],
   "source": [
    "def convert_to_f(c):\n",
    "    f = (9.0 * c) / 5.0 + 32.0\n",
    "    return f"
   ]
  },
  {
   "cell_type": "code",
   "execution_count": null,
   "metadata": {},
   "outputs": [],
   "source": [
    "print_msg()\n",
    "f = convert_to_f(c)\n",
    "if is_valid_num(c):\n",
    "    print(\"合法!\")\n",
    "else:\n",
    "    print(\"不合法\")"
   ]
  },
  {
   "cell_type": "code",
   "execution_count": null,
   "metadata": {},
   "outputs": [],
   "source": [
    "import random\n",
    "target = random.randint(1, 100)"
   ]
  },
  {
   "cell_type": "code",
   "execution_count": null,
   "metadata": {},
   "outputs": [],
   "source": [
    "import random as R\n",
    "target = R.randint(1, 100)"
   ]
  },
  {
   "cell_type": "code",
   "execution_count": null,
   "metadata": {},
   "outputs": [],
   "source": [
    "from bs4 import BeautifulSoup\n",
    "html_str = \"<p>Hello World!</p>\"\n",
    "soup = BeautifulSoup(html_str, \"lxml\")\n",
    "print(soup)"
   ]
  },
  {
   "cell_type": "code",
   "execution_count": null,
   "metadata": {},
   "outputs": [],
   "source": [
    "ls = [6, 4, 5] # 建立串列\n",
    "print(ls, ls[2]) # 顯示 \"[6, 4, 5] 5\"\n",
    "print(ls[-1]) # 負索引從最後開始: 顯示 \"5\"\n",
    "ls[2] = \"py\" # 指定字串型別的項目\n",
    "print(ls) # 顯示 \"[6, 4, 'py']\"\n",
    "ls.append(\"bar\") # 新增項目\n",
    "print(ls) # 顯示 \"[6, 4, 'py', 'bar']\"\n",
    "ele = ls.pop() # 取出最後項目\n",
    "print(ele, ls) # 顯示 \"bar [6, 4, 'py']\""
   ]
  },
  {
   "cell_type": "code",
   "execution_count": null,
   "metadata": {},
   "outputs": [],
   "source": [
    "hello = ['hi','you','I','a Man','Diana', 88]\n",
    "hello.remove('you')\n",
    "print(hello)"
   ]
  },
  {
   "cell_type": "code",
   "execution_count": null,
   "metadata": {},
   "outputs": [],
   "source": [
    "nums = list(range(5)) # 建立一序列的整數串列\n",
    "print(nums) # 顯示 \"[0, 1, 2, 3, 4]\"\n",
    "print(nums[2:4]) # 切割索引2~4(不含4): 顯示 \"[2, 3]\"\n",
    "print(nums[2:]) # 切割索引從2至最後: 顯示 \"[2, 3, 4]\"\n",
    "print(nums[:2]) # 切割從開始至索引2(不含2): 顯示 \"[0, 1]\"\n",
    "print(nums[:]) # 切割整個串列: 顯示 \"[0, 1, 2, 3, 4]\"\n",
    "print(nums[:-1]) # 使用負索引切割: 顯示 \"[0, 1, 2, 3]\"\n",
    "nums[2:4] = [7, 8] # 使用切割來指定子串列\n",
    "print(nums) # 顯示 \"[0, 1, 7, 8, 4]\""
   ]
  },
  {
   "cell_type": "code",
   "execution_count": null,
   "metadata": {},
   "outputs": [],
   "source": [
    "animals = ['cat', 'dog', 'bat']\n",
    "for animal in animals:\n",
    "    print(animal)"
   ]
  },
  {
   "cell_type": "code",
   "execution_count": null,
   "metadata": {},
   "outputs": [],
   "source": [
    "animals = ['cat', 'dog', 'bat']\n",
    "for index, animal in enumerate(animals):\n",
    "    print(index, animal)"
   ]
  },
  {
   "cell_type": "code",
   "execution_count": null,
   "metadata": {},
   "outputs": [],
   "source": [
    "list1 = [x for x in range(10)]\n",
    "list2 = [x+1 for x in range(10)]"
   ]
  },
  {
   "cell_type": "code",
   "execution_count": null,
   "metadata": {},
   "outputs": [],
   "source": [
    "list3 = [x for x in range(10) if x % 2 == 0]\n",
    "list4 = [x*2 for x in range(10) if x % 2 == 0]"
   ]
  },
  {
   "cell_type": "code",
   "execution_count": null,
   "metadata": {},
   "outputs": [],
   "source": [
    "d = {\"cat\": \"white\", \"dog\": \"black\"} # 建立字典\n",
    "print(d[\"cat\"]) # 使用Key取得項目: 顯示 \"white\"\n",
    "print(\"cat\" in d) # 是否有Key: 顯示 \"True\"\n",
    "d[\"pig\"] = \"pink\" # 新增項目\n",
    "print(d[\"pig\"]) # 顯示 \"pink\"\n",
    "print(d.get(\"monkey\", \"N/A\")) # 取出項目+預設值: 顯示 \"N/A\"\n",
    "print(d.get(\"pig\", \"N/A\")) # 取出項目+預設值: 顯示 \"pink\"\n",
    "del d[\"pig\"] # 使用Key刪除項目\n",
    "print(d.get(\"pig\", \"N/A\")) # \"pig\"不存在: 顯示 \"N/A\""
   ]
  },
  {
   "cell_type": "code",
   "execution_count": null,
   "metadata": {},
   "outputs": [],
   "source": [
    "d = {\"chicken\": 2, \"dog\": 4, \"cat\": 4, \"spider\": 8}\n",
    "for animal in d:\n",
    "    legs = d[animal]\n",
    "    print(animal, legs)"
   ]
  },
  {
   "cell_type": "code",
   "execution_count": null,
   "metadata": {},
   "outputs": [],
   "source": [
    "d = {\"chicken\": 2, \"dog\": 4, \"cat\": 4, \"spider\": 8}\n",
    "for animal, legs in d.items():\n",
    "    print(\"動物: %s 有 %d 隻腳\" % (animal, legs))"
   ]
  },
  {
   "cell_type": "code",
   "execution_count": null,
   "metadata": {},
   "outputs": [],
   "source": [
    "d1 = {x:x*x for x in range(10)}"
   ]
  },
  {
   "cell_type": "code",
   "execution_count": null,
   "metadata": {},
   "outputs": [],
   "source": [
    "d2 = {x:x*x for x in range(10) if x % 2 == 1}"
   ]
  },
  {
   "cell_type": "code",
   "execution_count": null,
   "metadata": {},
   "outputs": [],
   "source": [
    "t = (5, 6, 7, 8) # 建立元組\n",
    "print(type(t)) # 顯示 \"<class 'tuple'>\"\n",
    "print(t) # 顯示 \"(5, 6, 7, 8)\"\n",
    "print(t[0]) # 顯示 \"5\"\n",
    "print(t[1]) # 顯示 \"6\"\n",
    "print(t[-1]) # 顯示 \"8\"\n",
    "print(t[-2]) # 顯示 \"7\"\n",
    "for ele in t: # 走訪項目\n",
    "    print(ele, end=\" \") # 顯示 \"5, 6, 7, 8\"\n"
   ]
  },
  {
   "cell_type": "code",
   "execution_count": null,
   "metadata": {},
   "outputs": [],
   "source": [
    "class Student:\n",
    "#Constructor\n",
    "    def __init__(self, name, grade):\n",
    "        self.name = name #Attribute\n",
    "        self.grade = grade\n",
    "#method\n",
    "    def displayStudent(self):\n",
    "        print(\"姓名 = \" + self.name)\n",
    "        print(\"成績 = \" + str(self.grade))\n",
    "    def whoami(self):\n",
    "        return self.name"
   ]
  },
  {
   "cell_type": "code",
   "execution_count": null,
   "metadata": {},
   "outputs": [],
   "source": [
    "def __init__(self, name, grade):\n",
    "    self.name = name\n",
    "    self.grade = grade"
   ]
  },
  {
   "cell_type": "code",
   "execution_count": null,
   "metadata": {},
   "outputs": [],
   "source": [
    "def displayStudent(self):\n",
    "    print(\"姓名 = \" + self.name)\n",
    "    print(\"成績 = \" + str(self.grade))"
   ]
  },
  {
   "cell_type": "code",
   "execution_count": null,
   "metadata": {},
   "outputs": [],
   "source": [
    "s1 = Student(\"陳會安\", 85)\n",
    "s1.displayStudent()\n",
    "print(\"s1.whoami() = \" + s1.whoami())\n",
    "print(\"s1.name = \" + s1.name)\n",
    "print(\"s1.grade = \" + str(s1.grade))"
   ]
  },
  {
   "cell_type": "code",
   "execution_count": null,
   "metadata": {},
   "outputs": [],
   "source": [
    "# 汽車類別\n",
    "class Cars:\n",
    "    # 建構子Constructor\n",
    "    def __init__(self, color, seat):\n",
    "        self.color = color # 顏色屬性\n",
    "        self.seat = seat # 座位屬性\n",
    "    # 方法(Method)\n",
    "    def drive(self):\n",
    "        print(\"My car is \"+ self.color+\" and has \"+str(self.seat)+\" seats.\")"
   ]
  },
  {
   "cell_type": "code",
   "execution_count": null,
   "metadata": {},
   "outputs": [],
   "source": [
    "fp = open(\"temp\\\\note.txt\", \"w\")\n",
    "fp.write(\"陳會安\\n\")\n",
    "fp.write(\"Python\")\n",
    "fp.write(\"程式設計\\n\")\n",
    "fp.close()"
   ]
  },
  {
   "cell_type": "code",
   "execution_count": null,
   "metadata": {},
   "outputs": [],
   "source": [
    "fp = open(\"temp\\\\note.txt\", \"a\")\n",
    "fp.write(\"陳允傑\\n\")\n",
    "fp.close()"
   ]
  },
  {
   "cell_type": "code",
   "execution_count": null,
   "metadata": {},
   "outputs": [],
   "source": [
    "fp = open(\"temp\\\\note.txt\", \"r\")\n",
    "str1 = fp.readline()\n",
    "print(str1)\n",
    "str2 = fp.readline()\n",
    "print(str2)\n",
    "fp.close()"
   ]
  },
  {
   "cell_type": "code",
   "execution_count": null,
   "metadata": {},
   "outputs": [],
   "source": [
    "with open(\"temp\\\\note.txt\", \"r\") as fp:\n",
    "    lst1 = fp.readlines()\n",
    "    print(lst1)\n"
   ]
  },
  {
   "cell_type": "code",
   "execution_count": null,
   "metadata": {},
   "outputs": [],
   "source": [
    "try:\n",
    "    fp = open(\"myfile.txt\", \"r\")\n",
    "    print(fp.read())\n",
    "    fp.close()\n",
    "except FileNotFoundError:\n",
    "    print(\"錯誤: myfile.txt does not exist!\")"
   ]
  }
 ],
 "metadata": {
  "interpreter": {
   "hash": "6d46af94c2bbce495f1e668725902fa517c90b1782bcfe2fce0dd9868df553d3"
  },
  "kernelspec": {
   "display_name": "Python 3.9.7 ('base')",
   "language": "python",
   "name": "python3"
  },
  "language_info": {
   "codemirror_mode": {
    "name": "ipython",
    "version": 3
   },
   "file_extension": ".py",
   "mimetype": "text/x-python",
   "name": "python",
   "nbconvert_exporter": "python",
   "pygments_lexer": "ipython3",
   "version": "3.9.7"
  },
  "orig_nbformat": 4
 },
 "nbformat": 4,
 "nbformat_minor": 2
}
